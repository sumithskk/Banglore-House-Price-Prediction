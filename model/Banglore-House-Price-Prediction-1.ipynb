{
 "cells": [
  {
   "cell_type": "markdown",
   "id": "25e73f6a",
   "metadata": {},
   "source": [
    "## Banglore House Price Prediction"
   ]
  },
  {
   "cell_type": "markdown",
   "id": "fdebf8c2",
   "metadata": {},
   "source": [
    "Bangalore House Price Prediction model using a Machine Learning algorithm. This model predicts the price of Bangalore's house with the help of a few parameters like availability, size, total square feet, bath, location, etc. "
   ]
  },
  {
   "cell_type": "code",
   "execution_count": 1,
   "id": "4489044c",
   "metadata": {},
   "outputs": [],
   "source": [
    "#Import dependencies\n",
    "import pandas as pd\n",
    "import numpy as np\n",
    "from matplotlib import pyplot as plt\n",
    "%matplotlib inline\n",
    "import matplotlib \n",
    "import seaborn as sns\n",
    "from sklearn.model_selection import train_test_split\n",
    "from sklearn.linear_model import LinearRegression,Lasso\n",
    "from sklearn.model_selection import ShuffleSplit,cross_val_score,GridSearchCV\n",
    "from sklearn.tree import DecisionTreeRegressor\n",
    "import catboost as cb\n",
    "import lightgbm as lgb\n",
    "from sklearn.feature_selection import VarianceThreshold,chi2\n",
    "import pickle\n",
    "import json"
   ]
  },
  {
   "cell_type": "markdown",
   "id": "cf28c16d",
   "metadata": {},
   "source": [
    "### Datasets"
   ]
  },
  {
   "cell_type": "markdown",
   "id": "446a1404",
   "metadata": {},
   "source": [
    "What are the things that a potential home buyer considers before purchasing a house? The location, the size of the property, schools, parks, restaurants, hospitals etc...? What about the most important factor — the price?\n",
    "\n",
    "Buying a home, especially in a city like Bengaluru, is a tricky choice.\n",
    "While the major factors are usually the same for all metros, there are others to be considered for the Silicon Valley of India.With its huge crowd, vibrant culture, great climate and a slew of job opportunities, it is difficult to ascertain the price of a house in Bengaluru.\n",
    "\n",
    "The dataset which used for this project is open source and collected from Kaggle\n"
   ]
  },
  {
   "cell_type": "code",
   "execution_count": 2,
   "id": "15b3a11d",
   "metadata": {},
   "outputs": [],
   "source": [
    "#Import dataset\n",
    "housepricedata = pd.read_csv('../Dataset/Bengaluru_House_Data.csv')\n",
    "housepricedf = housepricedata.copy()"
   ]
  },
  {
   "cell_type": "code",
   "execution_count": 3,
   "id": "0cb77632",
   "metadata": {},
   "outputs": [
    {
     "data": {
      "text/html": [
       "<div>\n",
       "<style scoped>\n",
       "    .dataframe tbody tr th:only-of-type {\n",
       "        vertical-align: middle;\n",
       "    }\n",
       "\n",
       "    .dataframe tbody tr th {\n",
       "        vertical-align: top;\n",
       "    }\n",
       "\n",
       "    .dataframe thead th {\n",
       "        text-align: right;\n",
       "    }\n",
       "</style>\n",
       "<table border=\"1\" class=\"dataframe\">\n",
       "  <thead>\n",
       "    <tr style=\"text-align: right;\">\n",
       "      <th></th>\n",
       "      <th>area_type</th>\n",
       "      <th>availability</th>\n",
       "      <th>location</th>\n",
       "      <th>size</th>\n",
       "      <th>society</th>\n",
       "      <th>total_sqft</th>\n",
       "      <th>bath</th>\n",
       "      <th>balcony</th>\n",
       "      <th>price</th>\n",
       "    </tr>\n",
       "  </thead>\n",
       "  <tbody>\n",
       "    <tr>\n",
       "      <th>0</th>\n",
       "      <td>Super built-up  Area</td>\n",
       "      <td>19-Dec</td>\n",
       "      <td>Electronic City Phase II</td>\n",
       "      <td>2 BHK</td>\n",
       "      <td>Coomee</td>\n",
       "      <td>1056</td>\n",
       "      <td>2.0</td>\n",
       "      <td>1.0</td>\n",
       "      <td>39.07</td>\n",
       "    </tr>\n",
       "    <tr>\n",
       "      <th>1</th>\n",
       "      <td>Plot  Area</td>\n",
       "      <td>Ready To Move</td>\n",
       "      <td>Chikka Tirupathi</td>\n",
       "      <td>4 Bedroom</td>\n",
       "      <td>Theanmp</td>\n",
       "      <td>2600</td>\n",
       "      <td>5.0</td>\n",
       "      <td>3.0</td>\n",
       "      <td>120.00</td>\n",
       "    </tr>\n",
       "    <tr>\n",
       "      <th>2</th>\n",
       "      <td>Built-up  Area</td>\n",
       "      <td>Ready To Move</td>\n",
       "      <td>Uttarahalli</td>\n",
       "      <td>3 BHK</td>\n",
       "      <td>NaN</td>\n",
       "      <td>1440</td>\n",
       "      <td>2.0</td>\n",
       "      <td>3.0</td>\n",
       "      <td>62.00</td>\n",
       "    </tr>\n",
       "    <tr>\n",
       "      <th>3</th>\n",
       "      <td>Super built-up  Area</td>\n",
       "      <td>Ready To Move</td>\n",
       "      <td>Lingadheeranahalli</td>\n",
       "      <td>3 BHK</td>\n",
       "      <td>Soiewre</td>\n",
       "      <td>1521</td>\n",
       "      <td>3.0</td>\n",
       "      <td>1.0</td>\n",
       "      <td>95.00</td>\n",
       "    </tr>\n",
       "    <tr>\n",
       "      <th>4</th>\n",
       "      <td>Super built-up  Area</td>\n",
       "      <td>Ready To Move</td>\n",
       "      <td>Kothanur</td>\n",
       "      <td>2 BHK</td>\n",
       "      <td>NaN</td>\n",
       "      <td>1200</td>\n",
       "      <td>2.0</td>\n",
       "      <td>1.0</td>\n",
       "      <td>51.00</td>\n",
       "    </tr>\n",
       "  </tbody>\n",
       "</table>\n",
       "</div>"
      ],
      "text/plain": [
       "              area_type   availability                  location       size  \\\n",
       "0  Super built-up  Area         19-Dec  Electronic City Phase II      2 BHK   \n",
       "1            Plot  Area  Ready To Move          Chikka Tirupathi  4 Bedroom   \n",
       "2        Built-up  Area  Ready To Move               Uttarahalli      3 BHK   \n",
       "3  Super built-up  Area  Ready To Move        Lingadheeranahalli      3 BHK   \n",
       "4  Super built-up  Area  Ready To Move                  Kothanur      2 BHK   \n",
       "\n",
       "   society total_sqft  bath  balcony   price  \n",
       "0  Coomee        1056   2.0      1.0   39.07  \n",
       "1  Theanmp       2600   5.0      3.0  120.00  \n",
       "2      NaN       1440   2.0      3.0   62.00  \n",
       "3  Soiewre       1521   3.0      1.0   95.00  \n",
       "4      NaN       1200   2.0      1.0   51.00  "
      ]
     },
     "execution_count": 3,
     "metadata": {},
     "output_type": "execute_result"
    }
   ],
   "source": [
    "housepricedata.head()"
   ]
  },
  {
   "cell_type": "code",
   "execution_count": 4,
   "id": "d5bfa371",
   "metadata": {},
   "outputs": [],
   "source": [
    "def isfloat(x):\n",
    "    '''convert totsl_sqrt to numerical values'''\n",
    "    try:\n",
    "        float(x)\n",
    "    except:\n",
    "        return False\n",
    "    return True\n",
    "def convert_sqft_to_num(x):\n",
    "    '''To convert totsl_sqrt to numerical values'''\n",
    "    tokens = x.split('-')\n",
    "    if len(tokens) == 2:\n",
    "        return (float(tokens[0])+float(tokens[1]))/2\n",
    "    try:\n",
    "        return float(x)\n",
    "    except:\n",
    "        return None   \n",
    "def iqr(dff):\n",
    "    ''' Return iqr range'''\n",
    "    q1 = dff.quantile(0.25)\n",
    "    q3 = dff.quantile(0.75)\n",
    "    iqr = q3-q1\n",
    "    return q1-1.5*iqr,q3+1.5*iqr\n",
    "\n",
    "def remove_pps_outliers(df):\n",
    "    ''' Remove the outlies in price_per_sqrft'''\n",
    "    df_out = pd.DataFrame()\n",
    "    for key, subdf in df.groupby('location'):\n",
    "        q1,q3 = iqr(df['price_per_sqrft'])\n",
    "        reduced_df = subdf[(subdf.price_per_sqrft>(q1)) & (subdf.price_per_sqrft<=(q3))]\n",
    "        df_out = pd.concat([df_out,reduced_df],ignore_index=True)\n",
    "    return df_out\n",
    "\n",
    "def remove_pps_outliers_(df):\n",
    "    ''' Remove the outlies in price_per_sqrft'''\n",
    "    df_out = pd.DataFrame()\n",
    "    for key, subdf in df.groupby('location'):\n",
    "        m = np.mean(subdf.price_per_sqrft)\n",
    "        st = np.std(subdf.price_per_sqrft)\n",
    "        reduced_df = subdf[(subdf.price_per_sqrft>(m-st)) & (subdf.price_per_sqrft<=(m+st))]\n",
    "        df_out = pd.concat([df_out,reduced_df],ignore_index=True)\n",
    "    return df_out"
   ]
  },
  {
   "cell_type": "markdown",
   "id": "d0d58382",
   "metadata": {},
   "source": [
    "### Data Preprocessing "
   ]
  },
  {
   "cell_type": "code",
   "execution_count": 5,
   "id": "613d0dc7",
   "metadata": {},
   "outputs": [],
   "source": [
    "#drop null values from the data\n",
    "housepricedf.dropna(inplace=True)\n",
    "\n",
    "#convert size to bhk as numerical values\n",
    "housepricedf['bhk'] = housepricedf['size'].apply(lambda x:int(x.split(' ')[0]))\n",
    "\n",
    "#convert total_sqrt to numerical\n",
    "housepricedf['total_sqft'] = housepricedf['total_sqft'].apply(convert_sqft_to_num)\n",
    "\n",
    "#let's creat new features \n",
    "#price per sqrft\n",
    "housepricedf['price_per_sqrft'] = housepricedf['price']*100000/housepricedf['total_sqft']\n",
    "\n",
    "#remove the locations with less obervations\n",
    "housepricedf['location'] = housepricedf['location'].apply(lambda x : x.strip())\n",
    "location_stats = housepricedf['location'].value_counts(ascending=False)\n",
    "location_stats_less_than_10 = location_stats[location_stats<=10]\n",
    "housepricedf['location'] = housepricedf['location'].apply(lambda x: 'other' if x in location_stats_less_than_10 else x)\n",
    "\n",
    "#remove obervations with sqrft/bhk less than 300(Since minimum sqrft is 300 for single room)\n",
    "housepricedf = housepricedf[~((housepricedf['total_sqft']/housepricedf['bhk'])<300)]"
   ]
  },
  {
   "cell_type": "markdown",
   "id": "21f6145f",
   "metadata": {},
   "source": [
    "### Outliers"
   ]
  },
  {
   "cell_type": "code",
   "execution_count": 6,
   "id": "c7ab05b0",
   "metadata": {},
   "outputs": [],
   "source": [
    "#remove outlies in price_per_sqrft using iqr range\n",
    "housepricedf = remove_pps_outliers_(housepricedf)\n",
    "\n",
    "#remove obeservations having more number of bathrooms than bhk\n",
    "housepricedf = housepricedf[housepricedf['bath']<housepricedf['bhk']+2]\n",
    "\n",
    "#drop columns - size\n",
    "housepricedf.drop(columns=['size','price_per_sqrft'],inplace=True)\n",
    "\n",
    "#Get copy of housedf\n",
    "housedfcopy = housepricedf.copy()"
   ]
  },
  {
   "cell_type": "markdown",
   "id": "30353220",
   "metadata": {},
   "source": [
    "### Encoding"
   ]
  },
  {
   "cell_type": "code",
   "execution_count": 7,
   "id": "110429a4",
   "metadata": {},
   "outputs": [],
   "source": [
    "#Encoding location features - \n",
    "locationdummydf = pd.get_dummies(housepricedf['location'])\n",
    "locationdummydf.drop(columns = ['other'],inplace=True)\n",
    "housepricedf = pd.concat([housepricedf,locationdummydf],axis=1)\n",
    "housepricedf.drop(columns=['location'],inplace=True)"
   ]
  },
  {
   "cell_type": "markdown",
   "id": "767045ad",
   "metadata": {},
   "source": [
    "### Feature Selection"
   ]
  },
  {
   "cell_type": "code",
   "execution_count": 8,
   "id": "502b7299",
   "metadata": {},
   "outputs": [],
   "source": [
    "#drop columns which are not relevent for price predictions\n",
    "housepricedf.drop(columns=['area_type','availability','society','balcony'],inplace=True)\n",
    "\n",
    "##Variance Threshold Feature selection for continuos features\n",
    "# var_thresh = VarianceThreshold(threshold=0)\n",
    "# var_thresh.fit(housepricedf)\n",
    "# var_thresh.get_support()\n",
    "\n",
    "## Chi2 test for categorical features\n",
    "#catfeatures = ['area_type','size']\n",
    "## split the data into train and test for feature selection\n",
    "# pvalues = chi2(x_train,y_train)"
   ]
  },
  {
   "cell_type": "markdown",
   "id": "ac7678a6",
   "metadata": {},
   "source": [
    "## Model Training"
   ]
  },
  {
   "cell_type": "code",
   "execution_count": 9,
   "id": "cf42c012",
   "metadata": {},
   "outputs": [],
   "source": [
    "#split the data int train and test\n",
    "Y = housepricedf['price']\n",
    "X = housepricedf.drop(['price'],axis=1)\n",
    "x_train,x_test,y_train,y_test = train_test_split(X,Y,test_size=0.2,shuffle=True)"
   ]
  },
  {
   "cell_type": "markdown",
   "id": "b33ea11c",
   "metadata": {},
   "source": [
    "### 1 - Linear Regression"
   ]
  },
  {
   "cell_type": "code",
   "execution_count": 10,
   "id": "ba9bbcc2",
   "metadata": {},
   "outputs": [
    {
     "name": "stdout",
     "output_type": "stream",
     "text": [
      "Cross Val Score is  [0.89428649 0.89702319 0.90166458 0.87920837 0.89596262]\n"
     ]
    }
   ],
   "source": [
    "lr_clf = LinearRegression()\n",
    "#Fit the data using Linear Regression model\n",
    "lr_clf.fit(x_train,y_train)\n",
    "\n",
    "#Cross validation scores \n",
    "cv = ShuffleSplit(n_splits=5,test_size=0.2,random_state=2021)\n",
    "cross_valscore = cross_val_score(LinearRegression(),X,Y,cv=cv)\n",
    "print('Cross Val Score is ',cross_valscore)"
   ]
  },
  {
   "cell_type": "markdown",
   "id": "cb9a7f43",
   "metadata": {},
   "source": [
    "### Gridsearch CV\n",
    "Gridsearch for three models : Linear Regression, Decision Tree Regression,Lasso Regression"
   ]
  },
  {
   "cell_type": "code",
   "execution_count": 11,
   "id": "1ef63f26",
   "metadata": {},
   "outputs": [],
   "source": [
    "def best_model_gridsearch(x,y):\n",
    "    algos = {\n",
    "            'lr':{\n",
    "                 'model':LinearRegression(),\n",
    "                 'params':{ \n",
    "                          'normalize' :[True,False]}\n",
    "                 },\n",
    "            'lasso':{\n",
    "                    'model' : Lasso(),\n",
    "                    'params' : {\n",
    "                                'alpha' : [1,2],\n",
    "                                'selection' : ['random','cyclic']\n",
    "                                }\n",
    "                    },\n",
    "            'dt' :{\n",
    "                  'model' : DecisionTreeRegressor(),\n",
    "                  'params':{\n",
    "                            'criterion':['mse','friedman_mse'],\n",
    "                            'splitter' : ['best','random']\n",
    "                           }\n",
    "                  }\n",
    "            }\n",
    "    scores = []\n",
    "    cv = ShuffleSplit(n_splits=5,test_size=0.2,random_state=2021)\n",
    "    for algo_name,config in algos.items():\n",
    "        gs = GridSearchCV(config['model'],config['params'],cv=cv,return_train_score=False)\n",
    "        gs.fit(X,Y)\n",
    "        scores.append({\n",
    "                    'model':algo_name,\n",
    "                    'best_score':gs.best_score_,\n",
    "                    'best_params':gs.best_params_\n",
    "                     })\n",
    "    return pd.DataFrame(scores,columns=['model','best_score','best_params'])"
   ]
  },
  {
   "cell_type": "code",
   "execution_count": 12,
   "id": "1fc4aea4",
   "metadata": {},
   "outputs": [
    {
     "data": {
      "text/html": [
       "<div>\n",
       "<style scoped>\n",
       "    .dataframe tbody tr th:only-of-type {\n",
       "        vertical-align: middle;\n",
       "    }\n",
       "\n",
       "    .dataframe tbody tr th {\n",
       "        vertical-align: top;\n",
       "    }\n",
       "\n",
       "    .dataframe thead th {\n",
       "        text-align: right;\n",
       "    }\n",
       "</style>\n",
       "<table border=\"1\" class=\"dataframe\">\n",
       "  <thead>\n",
       "    <tr style=\"text-align: right;\">\n",
       "      <th></th>\n",
       "      <th>model</th>\n",
       "      <th>best_score</th>\n",
       "      <th>best_params</th>\n",
       "    </tr>\n",
       "  </thead>\n",
       "  <tbody>\n",
       "    <tr>\n",
       "      <th>0</th>\n",
       "      <td>lr</td>\n",
       "      <td>0.893629</td>\n",
       "      <td>{'normalize': False}</td>\n",
       "    </tr>\n",
       "    <tr>\n",
       "      <th>1</th>\n",
       "      <td>lasso</td>\n",
       "      <td>0.768875</td>\n",
       "      <td>{'alpha': 1, 'selection': 'random'}</td>\n",
       "    </tr>\n",
       "    <tr>\n",
       "      <th>2</th>\n",
       "      <td>dt</td>\n",
       "      <td>0.819474</td>\n",
       "      <td>{'criterion': 'friedman_mse', 'splitter': 'ran...</td>\n",
       "    </tr>\n",
       "  </tbody>\n",
       "</table>\n",
       "</div>"
      ],
      "text/plain": [
       "   model  best_score                                        best_params\n",
       "0     lr    0.893629                               {'normalize': False}\n",
       "1  lasso    0.768875                {'alpha': 1, 'selection': 'random'}\n",
       "2     dt    0.819474  {'criterion': 'friedman_mse', 'splitter': 'ran..."
      ]
     },
     "execution_count": 12,
     "metadata": {},
     "output_type": "execute_result"
    }
   ],
   "source": [
    "best_model_gridsearch(X,Y)"
   ]
  },
  {
   "cell_type": "code",
   "execution_count": 13,
   "id": "cfedc075",
   "metadata": {},
   "outputs": [],
   "source": [
    "#Test for some obeservations\n",
    "def predict_price(location,sqft,bath,bhk):    \n",
    "    loc_index = np.where(X.columns==location)[0][0]\n",
    "\n",
    "    x = np.zeros(len(X.columns))\n",
    "    x[0] = sqft\n",
    "    x[1] = bath\n",
    "    x[2] = bhk\n",
    "    if loc_index >= 0:\n",
    "        x[loc_index] = 1\n",
    "\n",
    "    return lr_clf.predict([x])[0]"
   ]
  },
  {
   "cell_type": "markdown",
   "id": "df3ee23d",
   "metadata": {},
   "source": [
    "### Save Model"
   ]
  },
  {
   "cell_type": "code",
   "execution_count": 14,
   "id": "b7e82170",
   "metadata": {},
   "outputs": [],
   "source": [
    "#save model using Pickle\n",
    "with open('banglore_home_prices_model.pickle','wb') as f:\n",
    "    pickle.dump(lr_clf,f)"
   ]
  },
  {
   "cell_type": "code",
   "execution_count": 15,
   "id": "7d7c2f9c",
   "metadata": {},
   "outputs": [],
   "source": [
    "#save location names for deploymnet \n",
    "columns = {\n",
    "    'data_columns' : [col.lower() for col in X.columns]\n",
    "}\n",
    "with open(\"columns.json\",\"w\") as f:\n",
    "    f.write(json.dumps(columns))"
   ]
  },
  {
   "cell_type": "markdown",
   "id": "6c0e7f56",
   "metadata": {},
   "source": [
    "## Advanced Models\n",
    "Train advanced models like XGBoost and Catboost Regressor"
   ]
  },
  {
   "cell_type": "markdown",
   "id": "d5bd3c02",
   "metadata": {},
   "source": [
    "## Catboost Regressor"
   ]
  },
  {
   "cell_type": "code",
   "execution_count": 16,
   "id": "d4e9bc49",
   "metadata": {},
   "outputs": [],
   "source": [
    "# Split the train data into train and validation\n",
    "train, validation = train_test_split(housedfcopy, test_size=0.2)"
   ]
  },
  {
   "cell_type": "code",
   "execution_count": null,
   "id": "66cef09e",
   "metadata": {},
   "outputs": [],
   "source": [
    "avoid_cols = ['price']\n",
    "feats = [col for col in train.columns if col not in avoid_cols]\n",
    "target = 'price'\n",
    "\n",
    "# Categorical features\n",
    "cat_cols = ['location']\n",
    "# Categorical features index \n",
    "cat_indx = [i for i,c in enumerate(feats) if c in cat_cols]\n",
    "\n",
    "# Catboost pool\n",
    "val_pool = cb.Pool(validation[feats].values, validation[target], cat_features=cat_indx)\n",
    "\n",
    "# Model setup\n",
    "cat_reg = cb.CatBoostRegressor(iterations=3000,\n",
    "                                   learning_rate=0.005,\n",
    "                                   l2_leaf_reg=5,\n",
    "                                   eval_metric='RMSE',\n",
    "                                   random_seed = 42,\n",
    "                                   metric_period=500,\n",
    "                                   od_wait=20,\n",
    "                                   use_best_model=True\n",
    "                                   )\n",
    "# Model fit\n",
    "cat_reg.fit(X=train[feats], y=train[target], eval_set=val_pool, \n",
    "            cat_features=cat_indx, use_best_model=True, verbose=True, plot=False)"
   ]
  },
  {
   "cell_type": "markdown",
   "id": "9c57201b",
   "metadata": {},
   "source": [
    "## LightGBM Regressor"
   ]
  },
  {
   "cell_type": "code",
   "execution_count": 17,
   "id": "9c22a8bc",
   "metadata": {},
   "outputs": [],
   "source": [
    "# Spli the data into train and test\n",
    "Y = housepricedf['price']\n",
    "X = housepricedf.drop(['price'],axis=1)\n",
    "train_x,validation_x,train_y ,validation_y = train_test_split(X,Y,test_size=0.2)"
   ]
  },
  {
   "cell_type": "code",
   "execution_count": 18,
   "id": "b5651fa2",
   "metadata": {},
   "outputs": [
    {
     "name": "stderr",
     "output_type": "stream",
     "text": [
      "C:\\Users\\Asus\\anaconda3\\envs\\py37\\lib\\site-packages\\lightgbm\\engine.py:181: UserWarning: 'early_stopping_rounds' argument is deprecated and will be removed in a future release of LightGBM. Pass 'early_stopping()' callback via 'callbacks' argument instead.\n",
      "  _log_warning(\"'early_stopping_rounds' argument is deprecated and will be removed in a future release of LightGBM. \"\n",
      "C:\\Users\\Asus\\anaconda3\\envs\\py37\\lib\\site-packages\\lightgbm\\engine.py:239: UserWarning: 'verbose_eval' argument is deprecated and will be removed in a future release of LightGBM. Pass 'log_evaluation()' callback via 'callbacks' argument instead.\n",
      "  _log_warning(\"'verbose_eval' argument is deprecated and will be removed in a future release of LightGBM. \"\n",
      "C:\\Users\\Asus\\anaconda3\\envs\\py37\\lib\\site-packages\\lightgbm\\engine.py:260: UserWarning: 'evals_result' argument is deprecated and will be removed in a future release of LightGBM. Pass 'record_evaluation()' callback via 'callbacks' argument instead.\n",
      "  _log_warning(\"'evals_result' argument is deprecated and will be removed in a future release of LightGBM. \"\n"
     ]
    },
    {
     "name": "stdout",
     "output_type": "stream",
     "text": [
      "Training until validation scores don't improve for 100 rounds\n",
      "[500]\ttraining's rmse: 37.3702\tvalid_1's rmse: 36.9855\n",
      "[1000]\ttraining's rmse: 29.5978\tvalid_1's rmse: 28.6942\n",
      "[1500]\ttraining's rmse: 25.1462\tvalid_1's rmse: 24.4712\n",
      "[2000]\ttraining's rmse: 22.6631\tvalid_1's rmse: 22.4895\n",
      "[2500]\ttraining's rmse: 21.4742\tvalid_1's rmse: 21.6051\n",
      "[3000]\ttraining's rmse: 20.8184\tvalid_1's rmse: 21.0658\n",
      "[3500]\ttraining's rmse: 20.358\tvalid_1's rmse: 20.8036\n",
      "[4000]\ttraining's rmse: 20.0469\tvalid_1's rmse: 20.6137\n",
      "[4500]\ttraining's rmse: 19.8263\tvalid_1's rmse: 20.5638\n",
      "Early stopping, best iteration is:\n",
      "[4410]\ttraining's rmse: 19.862\tvalid_1's rmse: 20.5579\n"
     ]
    }
   ],
   "source": [
    "def light_gbm_model_run(train_x, train_y, validation_x, validation_y):\n",
    "    params = {\n",
    "        \"objective\" : \"regression\",\n",
    "        \"metric\" : \"rmse\",\n",
    "        \"num_leaves\" :70,\n",
    "        \"min_data_in_leaf\" :20,\n",
    "        \"learning_rate\" : 0.001,\n",
    "        \"bagging_seed\" : 42,\n",
    "        \"verbosity\" : -1,\n",
    "        \"seed\": 42}\n",
    "    \n",
    "    # Given its a regression case, I am using the RMSE as the metric.\n",
    "\n",
    "    lg_train = lgb.Dataset(train_x, label=train_y)\n",
    "    lg_validation = lgb.Dataset(validation_x, label=validation_y)\n",
    "    evals_result_lgbm = {}\n",
    "\n",
    "    model_light_gbm = lgb.train(params, lg_train, 5000,\n",
    "                      valid_sets=[lg_train, lg_validation],\n",
    "                      early_stopping_rounds=100,\n",
    "                      verbose_eval=500,\n",
    "                      evals_result=evals_result_lgbm )\n",
    "\n",
    "    return model_light_gbm\n",
    "#Run Lightgbm code\n",
    "lgbmmodel = light_gbm_model_run(train_x, train_y, validation_x, validation_y)"
   ]
  },
  {
   "cell_type": "code",
   "execution_count": null,
   "id": "ba4c276c",
   "metadata": {},
   "outputs": [],
   "source": []
  }
 ],
 "metadata": {
  "kernelspec": {
   "display_name": "Python 3 (ipykernel)",
   "language": "python",
   "name": "python3"
  },
  "language_info": {
   "codemirror_mode": {
    "name": "ipython",
    "version": 3
   },
   "file_extension": ".py",
   "mimetype": "text/x-python",
   "name": "python",
   "nbconvert_exporter": "python",
   "pygments_lexer": "ipython3",
   "version": "3.7.11"
  }
 },
 "nbformat": 4,
 "nbformat_minor": 5
}
